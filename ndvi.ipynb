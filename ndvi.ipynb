{
 "cells": [
  {
   "cell_type": "code",
   "execution_count": null,
   "metadata": {},
   "outputs": [],
   "source": [
    "import urllib.request\n",
    "import urllib.parse\n",
    "import tempfile\n",
    "import scrapbook\n",
    "import uuid\n",
    "import xarray as xr"
   ]
  },
  {
   "cell_type": "code",
   "execution_count": null,
   "metadata": {},
   "outputs": [],
   "source": [
    "query_string = urllib.parse.urlencode(args)\n",
    "url = f\"https://edc-oapi.hub.eox.at/oapi/collections/{data}/coverage?{query_string}\"\n",
    "\n",
    "print(f\"Retrieving data from {url}\")\n",
    "\n",
    "with urllib.request.urlopen(url) as in_file:\n",
    "    with tempfile.NamedTemporaryFile(suffix=\".tif\", delete=False) as tmp_file:\n",
    "        tmp_file.write(in_file.read())\n",
    "        tmp_file.flush()\n",
    "        arr = xr.open_rasterio(tmp_file.name)\n"
   ]
  },
  {
   "cell_type": "code",
   "execution_count": null,
   "metadata": {},
   "outputs": [],
   "source": [
    "ds = arr.to_dataset(\"band\").rename({1: \"B04\", 2: \"B08\"})\n",
    "print(f\"Executing code: {code}\")\n",
    "exec(code)\n",
    "print(\"got result:\")\n",
    "print(result)"
   ]
  },
  {
   "cell_type": "code",
   "execution_count": null,
   "metadata": {},
   "outputs": [],
   "source": [
    "!python3 -m pip -q install rioxarray\n",
    "import rioxarray\n",
    "\n",
    "output_filepath = f\"/home/jovyan/s3/ndvi-{uuid.uuid4()}.tif\"\n",
    "\n",
    "print(f\"Writing output to {output_filepath}\")\n",
    "\n",
    "result.rio.to_raster(output_filepath)\n",
    "\n",
    "scrapbook.glue(\"result-file\", output_filepath)"
   ]
  }
 ],
 "metadata": {
  "kernelspec": {
   "display_name": "Python 3",
   "language": "python",
   "name": "python3"
  },
  "language_info": {
   "codemirror_mode": {
    "name": "ipython",
    "version": 3
   },
   "file_extension": ".py",
   "mimetype": "text/x-python",
   "name": "python",
   "nbconvert_exporter": "python",
   "pygments_lexer": "ipython3",
   "version": "3.8.6"
  }
 },
 "nbformat": 4,
 "nbformat_minor": 4
}
