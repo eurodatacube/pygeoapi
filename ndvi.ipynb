{
 "cells": [
  {
   "cell_type": "code",
   "execution_count": 105,
   "metadata": {},
   "outputs": [],
   "source": [
    "import urllib.request\n",
    "import tempfile\n",
    "import scrapbook\n",
    "import uuid"
   ]
  },
  {
   "cell_type": "code",
   "execution_count": 106,
   "metadata": {},
   "outputs": [],
   "source": [
    "url = \"https://edc-oapi.dev.hub.eox.at/oapi/collections/S2L2A/coverage?f=GeoTIFF&subset=lat(16:16.001),lon(48:48.001),time(%222020-09-10T00:00Z%22:%222020-09-29T00:00Z%22)&rangeSubset=B04,B08\"\n",
    "with urllib.request.urlopen(url) as in_file:\n",
    "    with tempfile.NamedTemporaryFile(suffix=\".tif\", delete=False) as tmp_file:\n",
    "        tmp_file.write(in_file.read())\n",
    "        tmp_file.flush()\n",
    "        arr = xr.open_rasterio(tmp_file.name)\n"
   ]
  },
  {
   "cell_type": "code",
   "execution_count": 107,
   "metadata": {},
   "outputs": [],
   "source": [
    "ds = arr.to_dataset(\"band\").rename({1: \"B04\", 2: \"B08\"})\n",
    "ndvi = (ds.B08 - ds.B04) / (ds.B04 + ds.B08)"
   ]
  },
  {
   "cell_type": "code",
   "execution_count": 108,
   "metadata": {},
   "outputs": [
    {
     "data": {
      "application/scrapbook.scrap.text+json": {
       "data": "/home/jovyan/s3/ndvi-cd32df12-8953-42c8-bdef-d94b5b3e5450.tif",
       "encoder": "text",
       "name": "result-file",
       "version": 1
      }
     },
     "metadata": {
      "scrapbook": {
       "data": true,
       "display": false,
       "name": "result-file"
      }
     },
     "output_type": "display_data"
    }
   ],
   "source": [
    "!python3 -m pip -q install rioxarray\n",
    "import rioxarray\n",
    "\n",
    "output_filepath = f\"/home/jovyan/s3/ndvi-{uuid.uuid4()}.tif\"\n",
    "\n",
    "ndvi.rio.to_raster(output_filepath)\n",
    "\n",
    "scrapbook.glue(\"result-file\", output_filepath)"
   ]
  }
 ],
 "metadata": {
  "kernelspec": {
   "display_name": "EDC 0.22.3 (Python3)",
   "language": "python",
   "name": "edc"
  },
  "language_info": {
   "codemirror_mode": {
    "name": "ipython",
    "version": 3
   },
   "file_extension": ".py",
   "mimetype": "text/x-python",
   "name": "python",
   "nbconvert_exporter": "python",
   "pygments_lexer": "ipython3",
   "version": "3.8.6"
  }
 },
 "nbformat": 4,
 "nbformat_minor": 4
}
