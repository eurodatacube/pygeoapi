{
 "cells": [
  {
   "cell_type": "code",
   "execution_count": null,
   "metadata": {},
   "outputs": [],
   "source": [
    "import urllib.request\n",
    "import urllib.parse\n",
    "import tempfile\n",
    "import scrapbook\n",
    "import uuid\n",
    "import textwrap\n",
    "import xarray as xr"
   ]
  },
  {
   "cell_type": "code",
   "execution_count": null,
   "metadata": {},
   "outputs": [],
   "source": [
    "query_string = urllib.parse.urlencode({**args, \"rangeSubset\": \",\".join(source_bands)})\n",
    "url = f\"{collection}/coverage?{query_string}\"\n",
    "\n",
    "print(f\"Retrieving data from {url}\")\n",
    "\n",
    "with urllib.request.urlopen(url) as in_file:\n",
    "    with tempfile.NamedTemporaryFile(suffix=\".tif\", delete=False) as tmp_file:\n",
    "        # TODO: use some kind of memory file\n",
    "        tmp_file.write(in_file.read())\n",
    "        tmp_file.flush()\n",
    "        arr = xr.open_rasterio(tmp_file.name)\n"
   ]
  },
  {
   "cell_type": "code",
   "execution_count": null,
   "metadata": {},
   "outputs": [],
   "source": [
    "ds = [arr.to_dataset(\"band\")]\n",
    "# set names of dataset\n",
    "ds[0] = ds[0].rename({\n",
    "    i: band\n",
    "    for i, band in enumerate(\n",
    "        source_bands,\n",
    "        start=1,\n",
    "    )\n",
    "})"
   ]
  },
  {
   "cell_type": "code",
   "execution_count": null,
   "metadata": {},
   "outputs": [],
   "source": [
    "if \"range_subset\" not in locals():\n",
    "    range_subset = bands_python_functions.keys()"
   ]
  },
  {
   "cell_type": "code",
   "execution_count": null,
   "metadata": {},
   "outputs": [],
   "source": [
    "result = xr.Dataset()\n",
    "for band_name, fun_code in bands_python_functions.items():\n",
    "    if band_name not in range_subset:\n",
    "        print(f\"skipping {band_name}\")\n",
    "        continue\n",
    "    print(f\"Executing code: {fun_code}\")\n",
    "    body = textwrap.indent(fun_code, \" \" * 4)\n",
    "    exec(f\"def fun():\\n{body}\")\n",
    "    result[band_name] = fun()\n",
    "    print(\"got result:\")\n",
    "    print(result[band_name])\n"
   ]
  },
  {
   "cell_type": "code",
   "execution_count": null,
   "metadata": {},
   "outputs": [],
   "source": [
    "!python3 -m pip -q install rioxarray\n",
    "import rioxarray\n",
    "\n",
    "output_filepath = f\"/home/jovyan/s3/ndvi-{uuid.uuid4()}.tif\"\n",
    "\n",
    "print(f\"Writing output to {output_filepath}\")\n",
    "\n",
    "result.rio.to_raster(output_filepath)\n",
    "\n",
    "scrapbook.glue(\"result-file\", output_filepath)"
   ]
  }
 ],
 "metadata": {
  "kernelspec": {
   "display_name": "Python 3",
   "language": "python",
   "name": "python3"
  },
  "language_info": {
   "codemirror_mode": {
    "name": "ipython",
    "version": 3
   },
   "file_extension": ".py",
   "mimetype": "text/x-python",
   "name": "python",
   "nbconvert_exporter": "python",
   "pygments_lexer": "ipython3",
   "version": "3.8.6"
  }
 },
 "nbformat": 4,
 "nbformat_minor": 4
}